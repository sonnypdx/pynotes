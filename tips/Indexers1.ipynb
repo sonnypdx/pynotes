{
 "cells": [
  {
   "cell_type": "code",
   "execution_count": 1,
   "metadata": {
    "collapsed": true
   },
   "outputs": [],
   "source": [
    "#initialize the notebook\n",
    "import pandas as pd\n",
    "\n",
    "# Set some Pandas options\n",
    "pd.set_option('max_columns', 30)\n",
    "pd.set_option('max_rows', 20)"
   ]
  },
  {
   "cell_type": "code",
   "execution_count": 2,
   "metadata": {
    "collapsed": true
   },
   "outputs": [],
   "source": [
    "# create two series, one using integer indexes and another one using string indexes, same values\n",
    "intIdx = [88641, 88643, 88645, 88649, 88650, 88652, 88653, 88662, 89177,\n",
    "            89178, 89330, 89333, 89334, 89335, 89336, 89337, 89338, 89339,\n",
    "            89340, 89341]\n",
    "\n",
    "strIdx = ['88641', '88643', '88645', '88649', '88650', '88652', '88653', '88662', '89177',\n",
    "            '89178', '89330', '89333', '89334', '89335', '89336', '89337', '89338', '89339',\n",
    "            '89340', '89341']\n",
    "\n",
    "valArr = [ 14, 1, 12,   0,   101, 102, 103,   25,  19,  20,  80,   50,   6,\n",
    "         13,   7,  19,   9,   4,   4,   49]"
   ]
  },
  {
   "cell_type": "code",
   "execution_count": 3,
   "metadata": {
    "collapsed": false
   },
   "outputs": [
    {
     "data": {
      "text/plain": [
       "88641     14\n",
       "88643      1\n",
       "88645     12\n",
       "88649      0\n",
       "88650    101\n",
       "88652    102\n",
       "88653    103\n",
       "88662     25\n",
       "89177     19\n",
       "89178     20\n",
       "89330     80\n",
       "89333     50\n",
       "89334      6\n",
       "89335     13\n",
       "89336      7\n",
       "89337     19\n",
       "89338      9\n",
       "89339      4\n",
       "89340      4\n",
       "89341     49\n",
       "dtype: int64"
      ]
     },
     "execution_count": 3,
     "metadata": {},
     "output_type": "execute_result"
    }
   ],
   "source": [
    "# create the integer indexed series\n",
    "intSer = pd.Series(valArr, index=intIdx)\n",
    "intSer"
   ]
  },
  {
   "cell_type": "code",
   "execution_count": 4,
   "metadata": {
    "collapsed": false
   },
   "outputs": [
    {
     "data": {
      "text/plain": [
       "88641     14\n",
       "88643      1\n",
       "88645     12\n",
       "88649      0\n",
       "88650    101\n",
       "88652    102\n",
       "88653    103\n",
       "88662     25\n",
       "89177     19\n",
       "89178     20\n",
       "89330     80\n",
       "89333     50\n",
       "89334      6\n",
       "89335     13\n",
       "89336      7\n",
       "89337     19\n",
       "89338      9\n",
       "89339      4\n",
       "89340      4\n",
       "89341     49\n",
       "dtype: int64"
      ]
     },
     "execution_count": 4,
     "metadata": {},
     "output_type": "execute_result"
    }
   ],
   "source": [
    "# create the string indexed series\n",
    "strSer = pd.Series(valArr, index=strIdx)\n",
    "strSer"
   ]
  },
  {
   "cell_type": "code",
   "execution_count": 5,
   "metadata": {
    "collapsed": false
   },
   "outputs": [
    {
     "name": "stdout",
     "output_type": "stream",
     "text": [
      "88650    101\n",
      "88652    102\n",
      "88653    103\n",
      "dtype: int64\n",
      "88650    101\n",
      "88652    102\n",
      "88653    103\n",
      "dtype: int64\n"
     ]
    }
   ],
   "source": [
    "# slice the series just using positional index - both series behave the same way\n",
    "print(strSer[4:7])\n",
    "print(intSer[4:7])"
   ]
  },
  {
   "cell_type": "code",
   "execution_count": 6,
   "metadata": {
    "collapsed": false
   },
   "outputs": [
    {
     "name": "stdout",
     "output_type": "stream",
     "text": [
      "88650    101\n",
      "88652    102\n",
      "88653    103\n",
      "dtype: int64\n"
     ]
    }
   ],
   "source": [
    "# slice the series from index '88650' to '88653' - it does work when the label index is not a number (i.e. string)\n",
    "print(strSer['88650':'88653'])"
   ]
  },
  {
   "cell_type": "code",
   "execution_count": 7,
   "metadata": {
    "collapsed": false
   },
   "outputs": [
    {
     "name": "stdout",
     "output_type": "stream",
     "text": [
      "Series([], dtype: int64)\n"
     ]
    }
   ],
   "source": [
    "# slice the series same way as above\n",
    "# i.e. from index 88650 to 88653 - it DOES NOT work when the label index is a number (i.e. int)\n",
    "print(intSer[88650:88653])"
   ]
  },
  {
   "cell_type": "code",
   "execution_count": 8,
   "metadata": {
    "collapsed": false
   },
   "outputs": [
    {
     "name": "stdout",
     "output_type": "stream",
     "text": [
      "88650    101\n",
      "88652    102\n",
      "88653    103\n",
      "dtype: int64\n",
      "88650    101\n",
      "88652    102\n",
      "88653    103\n",
      "dtype: int64\n"
     ]
    }
   ],
   "source": [
    "#use loc for label-based indexing and use iloc for position based indexing to ensure it works regardless of label's type\n",
    "print(strSer.loc['88650':'88653'])\n",
    "print(strSer.iloc[4:7])"
   ]
  },
  {
   "cell_type": "code",
   "execution_count": 9,
   "metadata": {
    "collapsed": false
   },
   "outputs": [
    {
     "name": "stdout",
     "output_type": "stream",
     "text": [
      "88650    101\n",
      "88652    102\n",
      "88653    103\n",
      "dtype: int64\n",
      "88650    101\n",
      "88652    102\n",
      "88653    103\n",
      "dtype: int64\n"
     ]
    }
   ],
   "source": [
    "#loc and iloc for intSer as well\n",
    "print(intSer.loc[88650:88653])\n",
    "print(intSer.iloc[4:7])"
   ]
  }
 ],
 "metadata": {
  "kernelspec": {
   "display_name": "Python 3",
   "language": "python",
   "name": "python3"
  },
  "language_info": {
   "codemirror_mode": {
    "name": "ipython",
    "version": 3
   },
   "file_extension": ".py",
   "mimetype": "text/x-python",
   "name": "python",
   "nbconvert_exporter": "python",
   "pygments_lexer": "ipython3",
   "version": "3.6.0"
  }
 },
 "nbformat": 4,
 "nbformat_minor": 2
}
